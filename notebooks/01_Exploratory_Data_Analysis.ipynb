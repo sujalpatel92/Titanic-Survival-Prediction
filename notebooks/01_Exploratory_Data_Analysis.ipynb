{
 "cells": [
  {
   "cell_type": "markdown",
   "metadata": {},
   "source": [
    "# 01 - Exploratory Data Analysis (EDA)"
   ]
  },
  {
   "cell_type": "markdown",
   "metadata": {},
   "source": [
    "Welcome to the first notebook of the Titanic Survival Prediction project! In this notebook, we will perform Exploratory Data Analysis (EDA) on the `train.csv` dataset. The goal of EDA is to understand the dataset's structure, identify patterns, detect anomalies, and gain insights that will guide our feature engineering and model selection processes."
   ]
  },
  {
   "cell_type": "markdown",
   "metadata": {},
   "source": [
    "## 1. Load Data"
   ]
  },
  {
   "cell_type": "code",
   "execution_count": null,
   "metadata": {},
   "outputs": [],
   "source": [
    "import pandas as pd\n",
    "import numpy as np\n",
    "import matplotlib.pyplot as plt\n",
    "import seaborn as sns\n",
    "\n",
    "# Set display options for better viewing\n",
    "pd.set_option('display.max_columns', None)\n",
    "pd.set_option('display.width', 1000)\n",
    "\n",
    "# Load the training dataset\n",
    "try:\n",
    "    df = pd.read_csv('../data/train.csv')\n",
    "    print(\"Dataset loaded successfully.\")\n",
    "except FileNotFoundError:\n",
    "    print(\"Error: train.csv not found. Please make sure it's in the 'data/' directory.\")\n",
    "    df = pd.DataFrame() # Create an empty DataFrame to avoid errors later\n"
   ]
  },
  {
   "cell_type": "markdown",
   "metadata": {},
   "source": [
    "## 2. Basic Information"
   ]
  },
  {
   "cell_type": "markdown",
   "metadata": {},
   "source": [
    "Let's start by looking at the first few rows of the dataset, its general information, and descriptive statistics."
   ]
  },
  {
   "cell_type": "markdown",
   "metadata": {},
   "source": [
    "### 2.1. Display First 5 Rows (`.head()`)"
   ]
  },
  {
   "cell_type": "code",
   "execution_count": null,
   "metadata": {},
   "outputs": [],
   "source": [
    "if not df.empty:\n",
    "    print(\"\\nFirst 5 rows of the dataset:\")\n",
    "    display(df.head())"
   ]
  },
  {
   "cell_type": "markdown",
   "metadata": {},
   "source": [
    "### 2.2. Dataset Information (`.info()`)"
   ]
  },
  {
   "cell_type": "code",
   "execution_count": null,
   "metadata": {},
   "outputs": [],
   "source": [
    "if not df.empty:\n",
    "    print(\"\\nDataset Information:\")\n",
    "    df.info()"
   ]
  },
  {
   "cell_type": "markdown",
   "metadata": {},
   "source": [
    "### 2.3. Descriptive Statistics (`.describe()`)"
   ]
  },
  {
   "cell_type": "code",
   "execution_count": null,
   "metadata": {},
   "outputs": [],
   "source": [
    "if not df.empty:\n",
    "    print(\"\\nDescriptive Statistics for Numerical Features:\")\n",
    "    display(df.describe())"
   ]
  },
  {
   "cell_type": "markdown",
   "metadata": {},
   "source": [
    "## 3. Identify Missing Values"
   ]
  },
  {
   "cell_type": "markdown",
   "metadata": {},
   "source": [
    "Missing values can impact model performance. Let's identify which columns have missing data and the extent of those missing values."
   ]
  },
  {
   "cell_type": "code",
   "execution_count": null,
   "metadata": {},
   "outputs": [],
   "source": [
    "if not df.empty:\n",
    "    print(\"\\nMissing Values:\")\n",
    "    missing_values = df.isnull().sum()\n",
    "    missing_values = missing_values[missing_values > 0].sort_values(ascending=False)\n",
    "    missing_percent = (df.isnull().sum() / len(df) * 100)[(df.isnull().sum() / len(df) * 100) > 0].sort_values(ascending=False)\n",
    "\n",
    "    missing_df = pd.DataFrame({'Missing Count': missing_values, 'Missing Percent': missing_percent})\n",
    "    display(missing_df)\n",
    "\n",
    "    if missing_df.empty:\n",
    "        print(\"No missing values found in the dataset.\")\n"
   ]
  },
  {
   "cell_type": "markdown",
   "metadata": {},
   "source": [
    "**Observations on Missing Values:**\n",
    "- **`Cabin`**: Has a very high percentage of missing values. This column might need to be dropped or handled carefully (e.g., creating a binary feature indicating if Cabin info is available).\n",
    "- **`Age`**: Has a significant number of missing values. Imputation (e.g., with median or mean) will be necessary.\n",
    "- **`Embarked`**: Has very few missing values. These can likely be imputed with the mode."
   ]
  },
  {
   "cell_type": "markdown",
   "metadata": {},
   "source": [
    "## 4. Analyze Data Distribution"
   ]
  },
  {
   "cell_type": "markdown",
   "metadata": {},
   "source": [
    "Understanding the distribution of individual features is crucial. We'll visualize this using histograms for numerical data and count plots for categorical data."
   ]
  },
  {
   "cell_type": "markdown",
   "metadata": {},
   "source": [
    "### 4.1. Numerical Features: `Age`, `Fare`, `SibSp`, `Parch`"
   ]
  },
  {
   "cell_type": "code",
   "execution_count": null,
   "metadata": {},
   "outputs": [],
   "source": [
    "if not df.empty:\n",
    "    numerical_features = ['Age', 'Fare', 'SibSp', 'Parch']\n",
    "    plt.figure(figsize=(15, 10))\n",
    "\n",
    "    for i, feature in enumerate(numerical_features):\n",
    "        plt.subplot(2, 2, i + 1)\n",
    "        sns.histplot(df[feature].dropna(), kde=True)\n",
    "        plt.title(f'Distribution of {feature}')\n",
    "        plt.xlabel(feature)\n",
    "        plt.ylabel('Frequency')\n",
    "    plt.tight_layout()\n",
    "    plt.show()"
   ]
  },
  {
   "cell_type": "markdown",
   "metadata": {},
   "source": [
    "**Observations on Numerical Features:**\n",
    "- **`Age`**: Appears somewhat normally distributed, but with a tail towards older ages. There are peaks at younger ages.\n",
    "- **`Fare`**: Highly skewed to the right, indicating most fares are low, with a few very high fares.\n",
    "- **`SibSp`** and **`Parch`**: Most passengers traveled alone or with very few siblings/spouses/parents/children. These distributions are heavily skewed towards 0."
   ]
  },
  {
   "cell_type": "markdown",
   "metadata": {},
   "source": [
    "### 4.2. Categorical Features: `Sex`, `Pclass`, `Embarked`, `Survived`"
   ]
  },
  {
   "cell_type": "code",
   "execution_count": null,
   "metadata": {},
   "outputs": [],
   "source": [
    "if not df.empty:\n",
    "    categorical_features = ['Sex', 'Pclass', 'Embarked', 'Survived']\n",
    "    plt.figure(figsize=(15, 5))\n",
    "\n",
    "    for i, feature in enumerate(categorical_features):\n",
    "        plt.subplot(1, 4, i + 1)\n",
    "        sns.countplot(x=feature, data=df, palette='viridis')\n",
    "        plt.title(f'Distribution of {feature}')\n",
    "        plt.xlabel(feature)\n",
    "        plt.ylabel('Count')\n",
    "    plt.tight_layout()\n",
    "    plt.show()"
   ]
  },
  {
   "cell_type": "markdown",
   "metadata": {},
   "source": [
    "**Observations on Categorical Features:**\n",
    "- **`Sex`**: More male passengers than female passengers.\n",
    "- **`Pclass`**: The majority of passengers were in 3rd class, followed by 1st and then 2nd class.\n",
    "- **`Embarked`**: Most passengers embarked from 'S' (Southampton), followed by 'C' (Cherbourg) and 'Q' (Queenstown).\n",
    "- **`Survived`**: More passengers did not survive (0) than survived (1), indicating an imbalanced target variable."
   ]
  },
  {
   "cell_type": "markdown",
   "metadata": {},
   "source": [
    "## 5. Explore Relationships with `Survived` (Target Variable)"
   ]
  },
  {
   "cell_type": "markdown",
   "metadata": {},
   "source": [
    "Now, let's investigate how different features correlate with our target variable, `Survived`."
   ]
  },
  {
   "cell_type": "markdown",
   "metadata": {},
   "source": [
    "### 5.1. Survival Rate by `Sex`"
   ]
  },
  {
   "cell_type": "code",
   "execution_count": null,
   "metadata": {},
   "outputs": [],
   "source": [
    "if not df.empty:\n",
    "    plt.figure(figsize=(6, 5))\n",
    "    sns.barplot(x='Sex', y='Survived', data=df, palette='pastel')\n",
    "    plt.title('Survival Rate by Sex')\n",
    "    plt.ylabel('Survival Rate')\n",
    "    plt.show()"
   ]
  },
  {
   "cell_type": "markdown",
   "metadata": {},
   "source": [
    "**Observation:** Females had a significantly higher survival rate than males. This is a very strong indicator."
   ]
  },
  {
   "cell_type": "markdown",
   "metadata": {},
   "source": [
    "### 5.2. Survival Rate by `Pclass`"
   ]
  },
  {
   "cell_type": "code",
   "execution_count": null,
   "metadata": {},
   "outputs": [],
   "source": [
    "if not df.empty:\n",
    "    plt.figure(figsize=(7, 5))\n",
    "    sns.barplot(x='Pclass', y='Survived', data=df, palette='coolwarm')\n",
    "    plt.title('Survival Rate by Passenger Class')\n",
    "    plt.ylabel('Survival Rate')\n",
    "    plt.show()"
   ]
  },
  {
   "cell_type": "markdown",
   "metadata": {},
   "source": [
    "**Observation:** Passengers in 1st class had a much higher survival rate compared to 2nd and especially 3rd class. This suggests `Pclass` is an important feature."
   ]
  },
  {
   "cell_type": "markdown",
   "metadata": {},
   "source": [
    "### 5.3. Survival Rate by `Embarked`"
   ]
  },
  {
   "cell_type": "code",
   "execution_count": null,
   "metadata": {},
   "outputs": [],
   "source": [
    "if not df.empty:\n",
    "    plt.figure(figsize=(7, 5))\n",
    "    sns.barplot(x='Embarked', y='Survived', data=df, palette='rocket')\n",
    "    plt.title('Survival Rate by Embarkation Point')\n",
    "    plt.ylabel('Survival Rate')\n",
    "    plt.show()"
   ]
  },
  {
   "cell_type": "markdown",
   "metadata": {},
   "source": [
    "**Observation:** Passengers who embarked from Cherbourg ('C') had a slightly higher survival rate than those from Queenstown ('Q') and Southampton ('S')."
   ]
  },
  {
   "cell_type": "markdown",
   "metadata": {},
   "source": [
    "### 5.4. Survival Rate by `Age` Bins (Visualizing Continuous Features)"
   ]
  },
  {
   "cell_type": "code",
   "execution_count": null,
   "metadata": {},
   "outputs": [],
   "source": [
    "if not df.empty:\n",
    "    # Create age bins for better visualization\n",
    "    df['Age_Bin'] = pd.cut(df['Age'], bins=[0, 12, 18, 60, 100], labels=['Child', 'Teenager', 'Adult', 'Elderly'])\n",
    "    plt.figure(figsize=(8, 5))\n",
    "    sns.barplot(x='Age_Bin', y='Survived', data=df, palette='flare', order=['Child', 'Teenager', 'Adult', 'Elderly'])\n",
    "    plt.title('Survival Rate by Age Group')\n",
    "    plt.ylabel('Survival Rate')\n",
    "    plt.xlabel('Age Group')\n",
    "    plt.show()\n",
    "    df.drop('Age_Bin', axis=1, inplace=True) # Drop the temporary bin column\n"
   ]
  },
  {
   "cell_type": "markdown",
   "metadata": {},
   "source": [
    "**Observation:** Children (Age < 12) generally had a higher survival rate compared to other age groups."
   ]
  },
  {
   "cell_type": "markdown",
   "metadata": {},
   "source": [
    "### 5.5. Survival Rate by `Fare` Bins"
   ]
  },
  {
   "cell_type": "code",
   "execution_count": null,
   "metadata": {},
   "outputs": [],
   "source": [
    "if not df.empty:\n",
    "    # Create fare bins for better visualization\n",
    "    df['Fare_Bin'] = pd.qcut(df['Fare'], q=4, labels=['Very Low', 'Low', 'Medium', 'High'])\n",
    "    plt.figure(figsize=(8, 5))\n",
    "    sns.barplot(x='Fare_Bin', y='Survived', data=df, palette='crest', order=['Very Low', 'Low', 'Medium', 'High'])\n",
    "    plt.title('Survival Rate by Fare Group')\n",
    "    plt.ylabel('Survival Rate')\n",
    "    plt.xlabel('Fare Group')\n",
    "    plt.show()\n",
    "    df.drop('Fare_Bin', axis=1, inplace=True) # Drop the temporary bin column\n"
   ]
  },
  {
   "cell_type": "markdown",
   "metadata": {},
   "source": [
    "**Observation:** Passengers who paid higher fares tended to have a higher survival rate, which aligns with `Pclass` observations."
   ]
  },
  {
   "cell_type": "markdown",
   "metadata": {},
   "source": [
    "### 5.6. Correlation Matrix (for numerical features)"
   ]
  },
  {
   "cell_type": "code",
   "execution_count": null,
   "metadata": {},
   "outputs": [],
   "source": [
    "if not df.empty:\n",
    "    plt.figure(figsize=(10, 8))\n",
    "    # Select only numerical columns for correlation matrix\n",
    "    numerical_cols = df.select_dtypes(include=np.number).columns.tolist()\n",
    "    # Drop 'PassengerId' as it's just an identifier and 'Age_Bin', 'Fare_Bin' if they temporarily existed\n",
    "    if 'PassengerId' in numerical_cols:\n",
    "        numerical_cols.remove('PassengerId')\n",
    "    if 'Age_Bin' in numerical_cols:\n",
    "        numerical_cols.remove('Age_Bin')\n",
    "    if 'Fare_Bin' in numerical_cols:\n",
    "        numerical_cols.remove('Fare_Bin')\n",
    "\n",
    "    correlation_matrix = df[numerical_cols].corr()\n",
    "    sns.heatmap(correlation_matrix, annot=True, cmap='coolwarm', fmt=\".2f\")\n",
    "    plt.title('Correlation Matrix of Numerical Features')\n",
    "    plt.show()"
   ]
  },
  {
   "cell_type": "markdown",
   "metadata": {},
   "source": [
    "**Observations on Correlation:**\n",
    "- `Survived` has a negative correlation with `Pclass` (higher class = better survival) and `Fare` has a positive correlation (higher fare = better survival), aligning with previous observations.\n",
    "- `SibSp` and `Parch` are positively correlated with each other, which is expected as they both relate to family members."
   ]
  },
  {
   "cell_type": "markdown",
   "metadata": {},
   "source": [
    "## 6. Insights and Observations from EDA"
   ]
  },
  {
   "cell_type": "markdown",
   "metadata": {},
   "source": [
    "Based on our exploratory data analysis, we've gathered several key insights that will inform our next steps in feature engineering and model building:\n",
    "\n",
    "1.  **Missing Values:**\n",
    "    -   `Cabin` has too many missing values and might be best dropped or converted into a simplified binary feature (e.g., 'Has_Cabin').\n",
    "    -   `Age` has a significant number of missing values, which will require imputation (e.g., median or mean).\n",
    "    -   `Embarked` has very few missing values, easily imputable with the mode.\n",
    "\n",
    "2.  **Feature Importance (Preliminary):**\n",
    "    -   `Sex` is a strong predictor of survival (females survived more).\n",
    "    -   `Pclass` is a strong predictor (higher class survived more).\n",
    "    -   `Age` and `Fare` also show relationships with survival, particularly younger ages and higher fares correlating with better survival.\n",
    "\n",
    "3.  **Feature Engineering Opportunities:**\n",
    "    -   Combining `SibSp` and `Parch` into a `FamilySize` feature, and then `IsAlone` from `FamilySize`, could be beneficial.\n",
    "    -   Extracting `Title` from `Name` might reveal interesting patterns related to social status or respect, which could influence survival.\n",
    "    -   Binning `Age` and `Fare` might help capture non-linear relationships and handle outliers, as seen in our visualizations.\n",
    "\n",
    "4.  **Categorical Feature Handling:**\n",
    "    -   `Sex`, `Embarked`, `Pclass` (which can be treated as categorical), and any newly engineered categorical features (like `Title`, `Age_Bin`, `Fare_Bin`) will need to be encoded (e.g., One-Hot Encoding) before feeding them into machine learning models.\n",
    "\n",
    "5.  **Numerical Feature Scaling:**\n",
    "    -   Numerical features like `Age` and `Fare` have different scales and distributions, suggesting the need for scaling (e.g., Standard Scaling) before model training, especially for models sensitive to feature scales (like Logistic Regression or SVMs).\n",
    "\n",
    "These insights will directly guide the next steps in our machine learning pipeline, focusing on data cleaning, feature engineering, and preparing the data for model training."
   ]
  },
  {
   "cell_type": "code",
   "execution_count": null,
   "metadata": {},
   "outputs": [],
   "source": []
  }
 ],
 "metadata": {
  "kernelspec": {
   "display_name": "Python 3",
   "language": "python",
   "name": "python3"
  },
  "language_info": {
   "codemirror_mode": {
    "name": "ipython",
    "version": 3
   },
   "file_extension": ".py",
   "mimetype": "text/x-python",
   "name": "python",
   "nbconvert_exporter": "python",
   "pygments_lexer": "ipython3",
   "version": "3.13.1"
  }
 },
 "nbformat": 4,
 "nbformat_minor": 4
}
